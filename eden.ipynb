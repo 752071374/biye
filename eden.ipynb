{
 "cells": [
  {
   "cell_type": "code",
   "execution_count": 1,
   "metadata": {},
   "outputs": [],
   "source": [
    "\n",
    "import pandas as pd\n",
    "import numpy as np\n",
    "import random\n",
    "import tensorflow as tf\n",
    "from sklearn.decomposition import PCA\n",
    "from sklearn.model_selection import train_test_split\n",
    "from sklearn.metrics import accuracy_score\n",
    "from tensorflow.keras.models import Sequential\n",
    "from tensorflow.keras.layers import Dense,Dropout"
   ]
  },
  {
   "cell_type": "code",
   "execution_count": 2,
   "metadata": {},
   "outputs": [],
   "source": [
    "\n",
    "hs300=pd.read_csv(r'C:\\Users\\yanyifei\\Desktop\\HS300\\biye\\hs3001.csv',index_col ='A股股票代码_A_Stkcd')"
   ]
  },
  {
   "cell_type": "code",
   "execution_count": 3,
   "metadata": {},
   "outputs": [],
   "source": [
    "X=hs300.iloc[:,2:-1]"
   ]
  },
  {
   "cell_type": "code",
   "execution_count": 4,
   "metadata": {},
   "outputs": [],
   "source": [
    "X=(X.max()-X)/(X.max()-X.min())"
   ]
  },
  {
   "cell_type": "code",
   "execution_count": 5,
   "metadata": {},
   "outputs": [
    {
     "name": "stdout",
     "output_type": "stream",
     "text": [
      "(2332, 145)\n",
      "(2332, 20)\n"
     ]
    }
   ],
   "source": [
    "pca = PCA(n_components=20)\n",
    "X_p= pca.fit(X).transform(X)\n",
    "\n",
    "print(X.shape)#原始变量维度\n",
    "\n",
    "print(X_p.shape)#主成分变量的维度"
   ]
  },
  {
   "cell_type": "code",
   "execution_count": 6,
   "metadata": {},
   "outputs": [],
   "source": [
    "X_PP=pd.DataFrame(X_p)"
   ]
  },
  {
   "cell_type": "code",
   "execution_count": 8,
   "metadata": {},
   "outputs": [],
   "source": [
    "dd=X_PP"
   ]
  },
  {
   "cell_type": "code",
   "execution_count": 8,
   "metadata": {},
   "outputs": [],
   "source": [
    "def cut(x):\n",
    "    return pd.cut(x,5,labels = range(5))"
   ]
  },
  {
   "cell_type": "code",
   "execution_count": 9,
   "metadata": {},
   "outputs": [],
   "source": [
    "dd=X_PP.apply(cut,axis=0)"
   ]
  },
  {
   "cell_type": "code",
   "execution_count": 10,
   "metadata": {},
   "outputs": [],
   "source": [
    "dd=dd.astype(float)"
   ]
  },
  {
   "cell_type": "code",
   "execution_count": 10,
   "metadata": {},
   "outputs": [],
   "source": [
    "y=hs300.iloc[:,-1]"
   ]
  },
  {
   "cell_type": "code",
   "execution_count": 11,
   "metadata": {},
   "outputs": [
    {
     "data": {
      "text/plain": [
       "0       1\n",
       "1       1\n",
       "2       0\n",
       "3       0\n",
       "4       0\n",
       "       ..\n",
       "2327    0\n",
       "2328    0\n",
       "2329    1\n",
       "2330    1\n",
       "2331    0\n",
       "Name: target, Length: 2332, dtype: int64"
      ]
     },
     "execution_count": 11,
     "metadata": {},
     "output_type": "execute_result"
    }
   ],
   "source": [
    "y.index=range(len(y))\n",
    "y"
   ]
  },
  {
   "cell_type": "code",
   "execution_count": 12,
   "metadata": {},
   "outputs": [],
   "source": [
    "X_train, X_test, y_train, y_test = dd.iloc[:1642,],dd.iloc[1642:,],y.iloc[:1642,],y.iloc[1642:,]"
   ]
  },
  {
   "cell_type": "code",
   "execution_count": 19,
   "metadata": {},
   "outputs": [],
   "source": [
    "x_train, x_test, y_train, y_test = train_test_split(dd, y.values)"
   ]
  },
  {
   "cell_type": "code",
   "execution_count": 39,
   "metadata": {},
   "outputs": [],
   "source": [
    "class GeneticNeuralNetwork(Sequential):\n",
    " # 构造函数\n",
    "    def __init__(self, child_weights=None):\n",
    " # 初始化顺序模型超类\n",
    "        super().__init__()\n",
    " # 如果没有提供权重，则随机生成它们\n",
    "        if child_weights is None:\n",
    " # 创建并随机生成层\n",
    "            layer1 = Dense(16, input_shape=(20,), activation='relu')\n",
    "            layer2 = Dense(32, activation='relu')\n",
    "\n",
    "            layer3 = Dense(1, activation='sigmoid')\n",
    " # 图层将添加到模型中\n",
    "            self.add(layer1)\n",
    "            self.add(layer2)\n",
    "            \n",
    "            self.add(layer3)\n",
    " # 如果提供了权重，则在层内设置权重\n",
    "        else:\n",
    " # 在层中设置权重\n",
    "            self.add(\n",
    "            Dense(\n",
    "                16,\n",
    "                input_shape=(20,),\n",
    "                activation='relu',\n",
    "                weights=[child_weights[0], np.zeros(16)])\n",
    "                )\n",
    "            self.add(\n",
    "            Dense(\n",
    "            32,\n",
    "            activation='relu',\n",
    "            weights=[child_weights[1], np.zeros(32)])\n",
    "            )\n",
    "            \n",
    "            self.add(\n",
    "            Dense(\n",
    "            1,\n",
    "            activation='sigmoid',\n",
    "            weights=[child_weights[2], np.zeros(1)])\n",
    "            )\n",
    " # 矩阵行向量的前向传播函数\n",
    "    def forward_propagation(self, X_train, y_train,X_test,y_test):\n",
    "    # 前向传播\n",
    "        y_hat = self.predict(X_train.values)\n",
    "    # 计算适应度得分\n",
    "        self.fitness = accuracy_score(y_train, y_hat.round())\n",
    "# 标准反向传播\n",
    "    def compile_train(self, epochs):\n",
    "        self.compile(optimizer=tf.keras.optimizers.SGD(nesterov=True),\n",
    "        loss='binary_crossentropy',\n",
    "        metrics=['accuracy']\n",
    "        )\n",
    "        self.fit(X_train.values, y_train.values,epochs=epochs,validation_data=( X_test.values, y_test.values))\n",
    " # 两个遗传神经网络的交叉特性\n"
   ]
  },
  {
   "cell_type": "code",
   "execution_count": 40,
   "metadata": {},
   "outputs": [],
   "source": [
    "def dynamic_crossover(nn1, nn2):\n",
    "# 各重量清单\n",
    "    nn1_weights = []\n",
    "    nn2_weights = []\n",
    "    child_weights = []\n",
    "    # 从第一个网络的所有层获取所有权重\n",
    "    for layer in nn1.layers:\n",
    "        nn1_weights.append(layer.get_weights()[0])\n",
    "    # 从第二个网络的所有层获取所有权重\n",
    "    for layer in nn2.layers:\n",
    "        nn2_weights.append(layer.get_weights()[0])\n",
    "    # 迭代所有层的所有权重进行交叉\n",
    "    for i in range(0, len(nn1_weights)):\n",
    "    # 基于列的单点分割父矩阵\n",
    "        split = random.randint(0, np.shape(nn1_weights[i])[1]-1)\n",
    "    # 在单个点之后迭代，并将reming cols设置为nn_2\n",
    "        for j in range(split, np.shape(nn1_weights[i])[1]-1):\n",
    "            nn1_weights[i][:, j] = nn2_weights[i][:, j]\n",
    "    # 交叉后给孩子增加重量\n",
    "        child_weights.append(nn1_weights[i])\n",
    "    # 增加突变的机会\n",
    "    mutation(child_weights)\n",
    "    # 创建并返回子对象ct\n",
    "    child = GeneticNeuralNetwork(child_weights)\n",
    "    return child\n",
    "    # 改变重量的机会\n"
   ]
  },
  {
   "cell_type": "code",
   "execution_count": 41,
   "metadata": {},
   "outputs": [],
   "source": [
    "def mutation(child_weights):\n",
    "    # 增加随机突变的机会\n",
    "    selection = random.randint(0, len(child_weights)-1)\n",
    "    mut = random.uniform(0, 1)\n",
    "    if mut >= .5:\n",
    "        child_weights[selection] *= random.randint(2, 5)\n",
    "    else:\n",
    "    # No mutation\n",
    "        pass"
   ]
  },
  {
   "cell_type": "code",
   "execution_count": 42,
   "metadata": {},
   "outputs": [
    {
     "name": "stdout",
     "output_type": "stream",
     "text": [
      "Generation:  1\n",
      "Max Fitness:  0.6540803897685749\n",
      "Generation:  2\n",
      "Max Fitness:  0.6577344701583435\n",
      "Generation:  3\n",
      "Generation:  4\n",
      "Generation:  5\n",
      "Max Fitness:  0.6583434835566383\n",
      "Generation:  6\n",
      "Generation:  7\n",
      "Generation:  8\n",
      "Max Fitness:  0.658952496954933\n",
      "Generation:  9\n",
      "Max Fitness:  0.6595615103532277\n",
      "Generation:  10\n",
      "Generation:  11\n",
      "Generation:  12\n",
      "Generation:  13\n",
      "Generation:  14\n",
      "Generation:  15\n",
      "Generation:  16\n",
      "Max Fitness:  0.6632155907429963\n",
      "Epoch 1/20\n",
      "52/52 [==============================] - 0s 4ms/step - loss: 0.7490 - accuracy: 0.4013 - val_loss: 0.7009 - val_accuracy: 0.5116\n",
      "Epoch 2/20\n",
      "52/52 [==============================] - 0s 1ms/step - loss: 0.6889 - accuracy: 0.5560 - val_loss: 0.6695 - val_accuracy: 0.6145\n",
      "Epoch 3/20\n",
      "52/52 [==============================] - 0s 1ms/step - loss: 0.6650 - accuracy: 0.6248 - val_loss: 0.6569 - val_accuracy: 0.6580\n",
      "Epoch 4/20\n",
      "52/52 [==============================] - 0s 1ms/step - loss: 0.6545 - accuracy: 0.6437 - val_loss: 0.6501 - val_accuracy: 0.6609\n",
      "Epoch 5/20\n",
      "52/52 [==============================] - 0s 1ms/step - loss: 0.6488 - accuracy: 0.6547 - val_loss: 0.6457 - val_accuracy: 0.6594\n",
      "Epoch 6/20\n",
      "52/52 [==============================] - 0s 1ms/step - loss: 0.6452 - accuracy: 0.6541 - val_loss: 0.6421 - val_accuracy: 0.6609\n",
      "Epoch 7/20\n",
      "52/52 [==============================] - 0s 1ms/step - loss: 0.6424 - accuracy: 0.6541 - val_loss: 0.6390 - val_accuracy: 0.6623\n",
      "Epoch 8/20\n",
      "52/52 [==============================] - 0s 1ms/step - loss: 0.6400 - accuracy: 0.6553 - val_loss: 0.6361 - val_accuracy: 0.6623\n",
      "Epoch 9/20\n",
      "52/52 [==============================] - 0s 1ms/step - loss: 0.6380 - accuracy: 0.6547 - val_loss: 0.6334 - val_accuracy: 0.6623\n",
      "Epoch 10/20\n",
      "52/52 [==============================] - 0s 2ms/step - loss: 0.6362 - accuracy: 0.6541 - val_loss: 0.6309 - val_accuracy: 0.6623\n",
      "Epoch 11/20\n",
      "52/52 [==============================] - 0s 1ms/step - loss: 0.6344 - accuracy: 0.6541 - val_loss: 0.6284 - val_accuracy: 0.6623\n",
      "Epoch 12/20\n",
      "52/52 [==============================] - 0s 1ms/step - loss: 0.6329 - accuracy: 0.6541 - val_loss: 0.6260 - val_accuracy: 0.6623\n",
      "Epoch 13/20\n",
      "52/52 [==============================] - 0s 1ms/step - loss: 0.6314 - accuracy: 0.6547 - val_loss: 0.6239 - val_accuracy: 0.6623\n",
      "Epoch 14/20\n",
      "52/52 [==============================] - 0s 2ms/step - loss: 0.6299 - accuracy: 0.6559 - val_loss: 0.6217 - val_accuracy: 0.6623\n",
      "Epoch 15/20\n",
      "52/52 [==============================] - 0s 2ms/step - loss: 0.6285 - accuracy: 0.6553 - val_loss: 0.6197 - val_accuracy: 0.6623\n",
      "Epoch 16/20\n",
      "52/52 [==============================] - 0s 1ms/step - loss: 0.6272 - accuracy: 0.6577 - val_loss: 0.6180 - val_accuracy: 0.6623\n",
      "Epoch 17/20\n",
      "52/52 [==============================] - 0s 1ms/step - loss: 0.6260 - accuracy: 0.6596 - val_loss: 0.6162 - val_accuracy: 0.6681\n",
      "Epoch 18/20\n",
      "52/52 [==============================] - 0s 1ms/step - loss: 0.6249 - accuracy: 0.6632 - val_loss: 0.6144 - val_accuracy: 0.6696\n",
      "Epoch 19/20\n",
      "52/52 [==============================] - 0s 1ms/step - loss: 0.6237 - accuracy: 0.6608 - val_loss: 0.6127 - val_accuracy: 0.6768\n",
      "Epoch 20/20\n",
      "52/52 [==============================] - 0s 1ms/step - loss: 0.6226 - accuracy: 0.6620 - val_loss: 0.6112 - val_accuracy: 0.6768\n"
     ]
    }
   ],
   "source": [
    "networks = []\n",
    "pool = []\n",
    "# 世代追踪\n",
    "generation = 0\n",
    "# 初始人口\n",
    "n = 20\n",
    "# 生成n个随机加权神经网络\n",
    "for i in range(0, n):\n",
    "    networks.append(GeneticNeuralNetwork())\n",
    "# 缓存最大适应值\n",
    "max_fitness = 0\n",
    "# 最大适应度得分\n",
    "optimal_weights = []\n",
    "# 进化回路\n",
    "while max_fitness < .66:\n",
    "    # 记录当前生成\n",
    "    generation = generation+1\n",
    "    print('Generation: ', generation)\n",
    "    # 前向传播神经网络计算适应度得分\n",
    "    for nn in networks:\n",
    "    # 计算传播计算适应度得分\n",
    "        nn.forward_propagation(X_train, y_train,X_test,y_test)\n",
    "    # 计算适应度增加到池\n",
    "        pool.append(nn)\n",
    "    # 为下一个孩子的繁殖而清除\n",
    "    networks.clear()\n",
    "    # 根据适合度排序\n",
    "    pool = sorted(pool, key=lambda x: x.fitness)\n",
    "    pool.reverse()\n",
    "    # 找到最大适合度并记录相关权重\n",
    "    for i in range(0, len(pool)):\n",
    "    # 如果在人群中有一个新的最大适应度\n",
    "        if pool[i].fitness > max_fitness:\n",
    "            max_fitness = pool[i].fitness\n",
    "            print('Max Fitness: ', max_fitness)\n",
    "    # 重置最佳加权\n",
    "            optimal_weights = []\n",
    "    # 迭代所有层，获取权重，并附加到最优值\n",
    "    for layer in pool[i].layers:\n",
    "        optimal_weights.append(layer.get_weights()[0])\n",
    "#     print('optimal_weights',optimal_weights)\n",
    "    #交叉，前5名随机选择2个伙伴为孩子\n",
    "    for i in range(0, 5):\n",
    "        for j in range(0, 2):\n",
    "    # 创建子项并添加到网络\n",
    "            temp = dynamic_crossover(pool[i], random.choice(pool))\n",
    "            # 添加到网络以计算下一次迭代的适应度得分\n",
    "            networks.append(temp)\n",
    "# 用遗传神经网络建立初始权值\n",
    "gnn = GeneticNeuralNetwork(optimal_weights)\n",
    "gnn.compile_train(20)\n",
    "# 样本外遗传神经网络的检验"
   ]
  },
  {
   "cell_type": "code",
   "execution_count": 43,
   "metadata": {},
   "outputs": [
    {
     "name": "stdout",
     "output_type": "stream",
     "text": [
      "Test Accuracy: 0.68\n"
     ]
    }
   ],
   "source": [
    "y_hat = gnn.predict(X_test.values)\n",
    "print('Test Accuracy: %.2f' % accuracy_score(y_test, y_hat.round()))"
   ]
  },
  {
   "cell_type": "code",
   "execution_count": 39,
   "metadata": {},
   "outputs": [
    {
     "data": {
      "text/plain": [
       "'2020-11-08 21:07:36'"
      ]
     },
     "execution_count": 39,
     "metadata": {},
     "output_type": "execute_result"
    }
   ],
   "source": [
    "time1_str"
   ]
  },
  {
   "cell_type": "code",
   "execution_count": null,
   "metadata": {},
   "outputs": [],
   "source": []
  }
 ],
 "metadata": {
  "kernelspec": {
   "display_name": "Python 3",
   "language": "python",
   "name": "python3"
  },
  "language_info": {
   "codemirror_mode": {
    "name": "ipython",
    "version": 3
   },
   "file_extension": ".py",
   "mimetype": "text/x-python",
   "name": "python",
   "nbconvert_exporter": "python",
   "pygments_lexer": "ipython3",
   "version": "3.8.3"
  },
  "toc": {
   "base_numbering": 1,
   "nav_menu": {},
   "number_sections": true,
   "sideBar": true,
   "skip_h1_title": false,
   "title_cell": "Table of Contents",
   "title_sidebar": "Contents",
   "toc_cell": false,
   "toc_position": {},
   "toc_section_display": true,
   "toc_window_display": false
  }
 },
 "nbformat": 4,
 "nbformat_minor": 4
}
